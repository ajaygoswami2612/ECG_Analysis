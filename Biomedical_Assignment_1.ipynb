{
 "cells": [
  {
   "cell_type": "markdown",
   "metadata": {
    "id": "V91wtV_xddYV"
   },
   "source": [
    "# **Question** **1**"
   ]
  },
  {
   "cell_type": "code",
   "execution_count": 52,
   "metadata": {
    "id": "behPBlHtjVVD"
   },
   "outputs": [],
   "source": [
    "#Detect R peak in ECG signal\n",
    "import scipy.io\n",
    "mat = scipy.io.loadmat('givenECG3.mat')"
   ]
  },
  {
   "cell_type": "code",
   "execution_count": 53,
   "metadata": {
    "colab": {
     "base_uri": "https://localhost:8080/"
    },
    "id": "6O_tYhaOjuuV",
    "outputId": "e6034985-eda1-4750-86a0-9a1dda19a91f"
   },
   "outputs": [
    {
     "data": {
      "text/plain": [
       "{'__header__': b'MATLAB 5.0 MAT-file, Platform: PCWIN64, Created on: Tue Jan 10 19:30:32 2017',\n",
       " '__version__': '1.0',\n",
       " '__globals__': [],\n",
       " 'givenECG3': array([[995, 995, 995, ..., 946, 944, 943]], dtype=uint16)}"
      ]
     },
     "execution_count": 53,
     "metadata": {},
     "output_type": "execute_result"
    }
   ],
   "source": [
    "mat"
   ]
  },
  {
   "cell_type": "code",
   "execution_count": 54,
   "metadata": {
    "id": "M6-vRUvEN-Wz"
   },
   "outputs": [],
   "source": [
    "p = mat['givenECG3']"
   ]
  },
  {
   "cell_type": "code",
   "execution_count": 55,
   "metadata": {
    "colab": {
     "base_uri": "https://localhost:8080/"
    },
    "id": "gKw7h1bLOF5v",
    "outputId": "8b7e7a4c-f582-4e51-a411-93f953b5fb5d"
   },
   "outputs": [
    {
     "data": {
      "text/plain": [
       "3600"
      ]
     },
     "execution_count": 55,
     "metadata": {},
     "output_type": "execute_result"
    }
   ],
   "source": [
    "len(mat['givenECG3'][0])"
   ]
  },
  {
   "cell_type": "code",
   "execution_count": 56,
   "metadata": {
    "id": "EuTuKVymOJgs"
   },
   "outputs": [],
   "source": [
    "import matplotlib.pyplot as plt\n"
   ]
  },
  {
   "cell_type": "code",
   "execution_count": 57,
   "metadata": {
    "colab": {
     "base_uri": "https://localhost:8080/"
    },
    "id": "rY1JgZjtOhu6",
    "outputId": "1b460c71-0f15-4113-aa77-2d531b04e15c"
   },
   "outputs": [
    {
     "name": "stdout",
     "output_type": "stream",
     "text": [
      "Looking in indexes: https://pypi.org/simple, https://us-python.pkg.dev/colab-wheels/public/simple/\n",
      "Requirement already satisfied: ecg-plot in /usr/local/lib/python3.8/dist-packages (0.2.8)\n"
     ]
    }
   ],
   "source": [
    "pip install ecg-plot"
   ]
  },
  {
   "cell_type": "code",
   "execution_count": 1,
   "metadata": {
    "colab": {
     "base_uri": "https://localhost:8080/",
     "height": 296
    },
    "id": "9WoF2oNcOmCr",
    "outputId": "9dd9f803-3119-482f-e555-1948491c18c9"
   },
   "outputs": [
    {
     "ename": "FileNotFoundError",
     "evalue": "[Errno 2] No such file or directory: 'givenECG3.mat'",
     "output_type": "error",
     "traceback": [
      "\u001b[1;31m---------------------------------------------------------------------------\u001b[0m",
      "\u001b[1;31mFileNotFoundError\u001b[0m                         Traceback (most recent call last)",
      "File \u001b[1;32m~\\anaconda3\\lib\\site-packages\\scipy\\io\\matlab\\mio.py:39\u001b[0m, in \u001b[0;36m_open_file\u001b[1;34m(file_like, appendmat, mode)\u001b[0m\n\u001b[0;32m     38\u001b[0m \u001b[38;5;28;01mtry\u001b[39;00m:\n\u001b[1;32m---> 39\u001b[0m     \u001b[38;5;28;01mreturn\u001b[39;00m \u001b[38;5;28;43mopen\u001b[39;49m\u001b[43m(\u001b[49m\u001b[43mfile_like\u001b[49m\u001b[43m,\u001b[49m\u001b[43m \u001b[49m\u001b[43mmode\u001b[49m\u001b[43m)\u001b[49m, \u001b[38;5;28;01mTrue\u001b[39;00m\n\u001b[0;32m     40\u001b[0m \u001b[38;5;28;01mexcept\u001b[39;00m \u001b[38;5;167;01mIOError\u001b[39;00m \u001b[38;5;28;01mas\u001b[39;00m e:\n\u001b[0;32m     41\u001b[0m     \u001b[38;5;66;03m# Probably \"not found\"\u001b[39;00m\n",
      "\u001b[1;31mFileNotFoundError\u001b[0m: [Errno 2] No such file or directory: 'givenECG3.mat'",
      "\nDuring handling of the above exception, another exception occurred:\n",
      "\u001b[1;31mFileNotFoundError\u001b[0m                         Traceback (most recent call last)",
      "Input \u001b[1;32mIn [1]\u001b[0m, in \u001b[0;36m<cell line: 5>\u001b[1;34m()\u001b[0m\n\u001b[0;32m      2\u001b[0m \u001b[38;5;28;01mimport\u001b[39;00m \u001b[38;5;21;01mnumpy\u001b[39;00m \u001b[38;5;28;01mas\u001b[39;00m \u001b[38;5;21;01mnp\u001b[39;00m\n\u001b[0;32m      3\u001b[0m \u001b[38;5;28;01mimport\u001b[39;00m \u001b[38;5;21;01mscipy\u001b[39;00m\u001b[38;5;21;01m.\u001b[39;00m\u001b[38;5;21;01mio\u001b[39;00m \u001b[38;5;28;01mas\u001b[39;00m \u001b[38;5;21;01msio\u001b[39;00m\n\u001b[1;32m----> 5\u001b[0m ecg \u001b[38;5;241m=\u001b[39m \u001b[43msio\u001b[49m\u001b[38;5;241;43m.\u001b[39;49m\u001b[43mloadmat\u001b[49m\u001b[43m(\u001b[49m\u001b[38;5;124;43m'\u001b[39;49m\u001b[38;5;124;43mgivenECG3.mat\u001b[39;49m\u001b[38;5;124;43m'\u001b[39;49m\u001b[43m)\u001b[49m[\u001b[38;5;124m'\u001b[39m\u001b[38;5;124mgivenECG3\u001b[39m\u001b[38;5;124m'\u001b[39m]\u001b[38;5;241m.\u001b[39mreshape((\u001b[38;5;241m-\u001b[39m\u001b[38;5;241m1\u001b[39m))\n\u001b[0;32m      6\u001b[0m \u001b[38;5;28mprint\u001b[39m(ecg)\n\u001b[0;32m      7\u001b[0m fs \u001b[38;5;241m=\u001b[39m \u001b[38;5;241m360\u001b[39m\n",
      "File \u001b[1;32m~\\anaconda3\\lib\\site-packages\\scipy\\io\\matlab\\mio.py:224\u001b[0m, in \u001b[0;36mloadmat\u001b[1;34m(file_name, mdict, appendmat, **kwargs)\u001b[0m\n\u001b[0;32m     87\u001b[0m \u001b[38;5;124;03m\"\"\"\u001b[39;00m\n\u001b[0;32m     88\u001b[0m \u001b[38;5;124;03mLoad MATLAB file.\u001b[39;00m\n\u001b[0;32m     89\u001b[0m \n\u001b[1;32m   (...)\u001b[0m\n\u001b[0;32m    221\u001b[0m \u001b[38;5;124;03m    3.14159265+3.14159265j])\u001b[39;00m\n\u001b[0;32m    222\u001b[0m \u001b[38;5;124;03m\"\"\"\u001b[39;00m\n\u001b[0;32m    223\u001b[0m variable_names \u001b[38;5;241m=\u001b[39m kwargs\u001b[38;5;241m.\u001b[39mpop(\u001b[38;5;124m'\u001b[39m\u001b[38;5;124mvariable_names\u001b[39m\u001b[38;5;124m'\u001b[39m, \u001b[38;5;28;01mNone\u001b[39;00m)\n\u001b[1;32m--> 224\u001b[0m \u001b[38;5;28;01mwith\u001b[39;00m _open_file_context(file_name, appendmat) \u001b[38;5;28;01mas\u001b[39;00m f:\n\u001b[0;32m    225\u001b[0m     MR, _ \u001b[38;5;241m=\u001b[39m mat_reader_factory(f, \u001b[38;5;241m*\u001b[39m\u001b[38;5;241m*\u001b[39mkwargs)\n\u001b[0;32m    226\u001b[0m     matfile_dict \u001b[38;5;241m=\u001b[39m MR\u001b[38;5;241m.\u001b[39mget_variables(variable_names)\n",
      "File \u001b[1;32m~\\anaconda3\\lib\\contextlib.py:119\u001b[0m, in \u001b[0;36m_GeneratorContextManager.__enter__\u001b[1;34m(self)\u001b[0m\n\u001b[0;32m    117\u001b[0m \u001b[38;5;28;01mdel\u001b[39;00m \u001b[38;5;28mself\u001b[39m\u001b[38;5;241m.\u001b[39margs, \u001b[38;5;28mself\u001b[39m\u001b[38;5;241m.\u001b[39mkwds, \u001b[38;5;28mself\u001b[39m\u001b[38;5;241m.\u001b[39mfunc\n\u001b[0;32m    118\u001b[0m \u001b[38;5;28;01mtry\u001b[39;00m:\n\u001b[1;32m--> 119\u001b[0m     \u001b[38;5;28;01mreturn\u001b[39;00m \u001b[38;5;28;43mnext\u001b[39;49m\u001b[43m(\u001b[49m\u001b[38;5;28;43mself\u001b[39;49m\u001b[38;5;241;43m.\u001b[39;49m\u001b[43mgen\u001b[49m\u001b[43m)\u001b[49m\n\u001b[0;32m    120\u001b[0m \u001b[38;5;28;01mexcept\u001b[39;00m \u001b[38;5;167;01mStopIteration\u001b[39;00m:\n\u001b[0;32m    121\u001b[0m     \u001b[38;5;28;01mraise\u001b[39;00m \u001b[38;5;167;01mRuntimeError\u001b[39;00m(\u001b[38;5;124m\"\u001b[39m\u001b[38;5;124mgenerator didn\u001b[39m\u001b[38;5;124m'\u001b[39m\u001b[38;5;124mt yield\u001b[39m\u001b[38;5;124m\"\u001b[39m) \u001b[38;5;28;01mfrom\u001b[39;00m \u001b[38;5;28mNone\u001b[39m\n",
      "File \u001b[1;32m~\\anaconda3\\lib\\site-packages\\scipy\\io\\matlab\\mio.py:17\u001b[0m, in \u001b[0;36m_open_file_context\u001b[1;34m(file_like, appendmat, mode)\u001b[0m\n\u001b[0;32m     15\u001b[0m \u001b[38;5;129m@contextmanager\u001b[39m\n\u001b[0;32m     16\u001b[0m \u001b[38;5;28;01mdef\u001b[39;00m \u001b[38;5;21m_open_file_context\u001b[39m(file_like, appendmat, mode\u001b[38;5;241m=\u001b[39m\u001b[38;5;124m'\u001b[39m\u001b[38;5;124mrb\u001b[39m\u001b[38;5;124m'\u001b[39m):\n\u001b[1;32m---> 17\u001b[0m     f, opened \u001b[38;5;241m=\u001b[39m \u001b[43m_open_file\u001b[49m\u001b[43m(\u001b[49m\u001b[43mfile_like\u001b[49m\u001b[43m,\u001b[49m\u001b[43m \u001b[49m\u001b[43mappendmat\u001b[49m\u001b[43m,\u001b[49m\u001b[43m \u001b[49m\u001b[43mmode\u001b[49m\u001b[43m)\u001b[49m\n\u001b[0;32m     18\u001b[0m     \u001b[38;5;28;01mtry\u001b[39;00m:\n\u001b[0;32m     19\u001b[0m         \u001b[38;5;28;01myield\u001b[39;00m f\n",
      "File \u001b[1;32m~\\anaconda3\\lib\\site-packages\\scipy\\io\\matlab\\mio.py:45\u001b[0m, in \u001b[0;36m_open_file\u001b[1;34m(file_like, appendmat, mode)\u001b[0m\n\u001b[0;32m     43\u001b[0m     \u001b[38;5;28;01mif\u001b[39;00m appendmat \u001b[38;5;129;01mand\u001b[39;00m \u001b[38;5;129;01mnot\u001b[39;00m file_like\u001b[38;5;241m.\u001b[39mendswith(\u001b[38;5;124m'\u001b[39m\u001b[38;5;124m.mat\u001b[39m\u001b[38;5;124m'\u001b[39m):\n\u001b[0;32m     44\u001b[0m         file_like \u001b[38;5;241m+\u001b[39m\u001b[38;5;241m=\u001b[39m \u001b[38;5;124m'\u001b[39m\u001b[38;5;124m.mat\u001b[39m\u001b[38;5;124m'\u001b[39m\n\u001b[1;32m---> 45\u001b[0m     \u001b[38;5;28;01mreturn\u001b[39;00m \u001b[38;5;28;43mopen\u001b[39;49m\u001b[43m(\u001b[49m\u001b[43mfile_like\u001b[49m\u001b[43m,\u001b[49m\u001b[43m \u001b[49m\u001b[43mmode\u001b[49m\u001b[43m)\u001b[49m, \u001b[38;5;28;01mTrue\u001b[39;00m\n\u001b[0;32m     46\u001b[0m \u001b[38;5;28;01melse\u001b[39;00m:\n\u001b[0;32m     47\u001b[0m     \u001b[38;5;28;01mraise\u001b[39;00m \u001b[38;5;167;01mIOError\u001b[39;00m(\n\u001b[0;32m     48\u001b[0m         \u001b[38;5;124m'\u001b[39m\u001b[38;5;124mReader needs file name or open file-like object\u001b[39m\u001b[38;5;124m'\u001b[39m\n\u001b[0;32m     49\u001b[0m     ) \u001b[38;5;28;01mfrom\u001b[39;00m \u001b[38;5;21;01me\u001b[39;00m\n",
      "\u001b[1;31mFileNotFoundError\u001b[0m: [Errno 2] No such file or directory: 'givenECG3.mat'"
     ]
    }
   ],
   "source": [
    "import matplotlib.pyplot as plt\n",
    "import numpy as np\n",
    "import scipy.io as sio\n",
    "\n",
    "ecg = sio.loadmat('givenECG3.mat')['givenECG3'].reshape((-1))\n",
    "print(ecg)\n",
    "fs = 360\n",
    "time = np.arange(ecg.size) / fs\n",
    "plt.plot(time, ecg)\n",
    "plt.xlabel(\"time in s\")\n",
    "plt.ylabel(\"ECG in mV\")\n",
    "plt.show()"
   ]
  },
  {
   "cell_type": "code",
   "execution_count": 59,
   "metadata": {
    "id": "QCH635CvPVg_"
   },
   "outputs": [],
   "source": [
    "r_peak1 = []\n",
    "for i in range(ecg.size):\n",
    "  if(ecg[i] > 1100):\n",
    "    r_peak1.append([ecg[i],i])\n",
    "r_peak1 = np.array(r_peak1)"
   ]
  },
  {
   "cell_type": "code",
   "execution_count": 60,
   "metadata": {
    "colab": {
     "base_uri": "https://localhost:8080/"
    },
    "id": "3y6Nt5-MRx3S",
    "outputId": "6e373be7-b4d4-438c-f7d1-1b7d0357fc60"
   },
   "outputs": [
    {
     "data": {
      "text/plain": [
       "array([[1148,   75],\n",
       "       [1180,   76],\n",
       "       [1192,   77],\n",
       "       [1177,   78],\n",
       "       [1128,   79],\n",
       "       [1122,  367],\n",
       "       [1168,  368],\n",
       "       [1199,  369],\n",
       "       [1212,  370],\n",
       "       [1205,  371],\n",
       "       [1175,  372],\n",
       "       [1122,  373],\n",
       "       [1106,  660],\n",
       "       [1162,  661],\n",
       "       [1201,  662],\n",
       "       [1216,  663],\n",
       "       [1194,  664],\n",
       "       [1128,  665],\n",
       "       [1151,  945],\n",
       "       [1186,  946],\n",
       "       [1196,  947],\n",
       "       [1178,  948],\n",
       "       [1119,  949],\n",
       "       [1119, 1229],\n",
       "       [1165, 1230],\n",
       "       [1188, 1231],\n",
       "       [1180, 1232],\n",
       "       [1131, 1233],\n",
       "       [1143, 1513],\n",
       "       [1184, 1514],\n",
       "       [1201, 1515],\n",
       "       [1183, 1516],\n",
       "       [1128, 1517],\n",
       "       [1140, 1807],\n",
       "       [1186, 1808],\n",
       "       [1213, 1809],\n",
       "       [1208, 1810],\n",
       "       [1179, 1811],\n",
       "       [1113, 1812],\n",
       "       [1126, 2042],\n",
       "       [1171, 2043],\n",
       "       [1193, 2044],\n",
       "       [1199, 2045],\n",
       "       [1171, 2046],\n",
       "       [1104, 2047],\n",
       "       [1121, 2400],\n",
       "       [1167, 2401],\n",
       "       [1193, 2402],\n",
       "       [1201, 2403],\n",
       "       [1182, 2404],\n",
       "       [1136, 2405],\n",
       "       [1144, 2704],\n",
       "       [1186, 2705],\n",
       "       [1202, 2706],\n",
       "       [1190, 2707],\n",
       "       [1140, 2708],\n",
       "       [1109, 2995],\n",
       "       [1161, 2996],\n",
       "       [1199, 2997],\n",
       "       [1209, 2998],\n",
       "       [1183, 2999],\n",
       "       [1118, 3000],\n",
       "       [1155, 3281],\n",
       "       [1188, 3282],\n",
       "       [1197, 3283],\n",
       "       [1171, 3284],\n",
       "       [1114, 3285],\n",
       "       [1147, 3558],\n",
       "       [1180, 3559],\n",
       "       [1191, 3560],\n",
       "       [1168, 3561],\n",
       "       [1106, 3562]])"
      ]
     },
     "execution_count": 60,
     "metadata": {},
     "output_type": "execute_result"
    }
   ],
   "source": [
    "r_peak1"
   ]
  },
  {
   "cell_type": "code",
   "execution_count": 61,
   "metadata": {
    "colab": {
     "base_uri": "https://localhost:8080/"
    },
    "id": "dFHnMEeAR-SS",
    "outputId": "f5f7937a-c1f3-4dc4-9698-26676d243688"
   },
   "outputs": [
    {
     "name": "stdout",
     "output_type": "stream",
     "text": [
      "72\n",
      "13\n",
      "[[1192, 77], [1212, 370], [1216, 663], [1196, 947], [1188, 1231], [1201, 1515], [1213, 1809], [1199, 2045], [1201, 2403], [1202, 2706], [1209, 2998], [1197, 3283], [1191, 3560]]\n"
     ]
    }
   ],
   "source": [
    "r_peak = []\n",
    "n = len(r_peak1)\n",
    "print(n)\n",
    "for j in range(1,n-1):\n",
    "   if(r_peak1[j][0] > r_peak1[j-1][0] and r_peak1[j][0] > r_peak1[j+1][0]):\n",
    "     r_peak.append([r_peak1[j][0],r_peak1[j][1]])\n",
    "r_peak\n",
    "print(len(r_peak))\n",
    "print(r_peak)"
   ]
  },
  {
   "cell_type": "code",
   "execution_count": 62,
   "metadata": {
    "colab": {
     "base_uri": "https://localhost:8080/"
    },
    "id": "l7PsuCgV1lOC",
    "outputId": "d973fda8-5539-419f-cfcc-7979a23b295b"
   },
   "outputs": [
    {
     "name": "stdout",
     "output_type": "stream",
     "text": [
      "[77, 370, 663, 947, 1231, 1515, 1809, 2045, 2403, 2706, 2998, 3283, 3560]\n",
      "77 0\n",
      "370 1\n",
      "663 2\n",
      "947 3\n",
      "1231 4\n",
      "1515 5\n",
      "1809 6\n",
      "2045 7\n",
      "2403 8\n",
      "2706 9\n",
      "2998 10\n",
      "3283 11\n",
      "3560 12\n",
      "3600\n"
     ]
    }
   ],
   "source": [
    "r_peak_final = [0]*ecg.size\n",
    "index = []\n",
    "for i in range(len(r_peak)):\n",
    "  index.append(r_peak[i][1])\n",
    "print(index)\n",
    "for j in range(y1.size):\n",
    "  if(j in index):\n",
    "     y = index.index(j)\n",
    "     print(j,y)\n",
    "     r_peak_final[j] = r_peak[y][0]\n",
    "  else:\n",
    "    r_peak_final[j] = 1180\n",
    "print(len(r_peak_final))\n",
    "# for j in range(len(r_peak_final)):\n",
    "#   if(r_peak_final[j] !=0):\n",
    "#     print(j)\n"
   ]
  },
  {
   "cell_type": "code",
   "execution_count": 63,
   "metadata": {
    "colab": {
     "base_uri": "https://localhost:8080/",
     "height": 296
    },
    "id": "dTnCxRxdSysP",
    "outputId": "624ed04b-0412-4cde-b5e9-f756c3e0838e"
   },
   "outputs": [
    {
     "name": "stdout",
     "output_type": "stream",
     "text": [
      "[995 995 995 ... 946 944 943]\n"
     ]
    },
    {
     "data": {
      "image/png": "[encoded data removed]",
      "text/plain": [
       "<Figure size 432x288 with 1 Axes>"
      ]
     },
     "metadata": {
      "needs_background": "light"
     },
     "output_type": "display_data"
    }
   ],
   "source": [
    "import matplotlib.pyplot as plt\n",
    "import numpy as np\n",
    "import scipy.io as sio\n",
    "\n",
    "ecg = sio.loadmat('givenECG3.mat')['givenECG3'].reshape((-1))\n",
    "print(ecg)\n",
    "fs = 360\n",
    "time = np.arange(ecg.size) / fs\n",
    "plt.plot(time, ecg)\n",
    "plt.plot(time,r_peak_final)\n",
    "plt.xlabel(\"time in s\")\n",
    "plt.ylabel(\"ECG in mV\")\n",
    "plt.show()"
   ]
  },
  {
   "cell_type": "code",
   "execution_count": 64,
   "metadata": {
    "colab": {
     "base_uri": "https://localhost:8080/"
    },
    "id": "QV39ePdUUumV",
    "outputId": "9ec2a8f5-c1c2-423a-ed14-fa87222cee68"
   },
   "outputs": [
    {
     "name": "stdout",
     "output_type": "stream",
     "text": [
      "77\n",
      "12\n"
     ]
    }
   ],
   "source": [
    "#RR interval\n",
    "interval = []\n",
    "print(r_peak[0][1])\n",
    "for i in range(1,len(r_peak)):\n",
    "  diff = (((r_peak[i][1])/360) - ((r_peak[i-1][1])/360))\n",
    "  interval.append(diff)\n",
    "interval\n",
    "print(len(interval))"
   ]
  },
  {
   "cell_type": "code",
   "execution_count": 65,
   "metadata": {
    "colab": {
     "base_uri": "https://localhost:8080/",
     "height": 351
    },
    "id": "6tbS2wgNZfSf",
    "outputId": "0fddb22a-14be-4da9-8852-b7073d019d9e"
   },
   "outputs": [
    {
     "name": "stdout",
     "output_type": "stream",
     "text": [
      "[0.         0.00277778 0.00555556 0.00833333 0.01111111 0.01388889\n",
      " 0.01666667 0.01944444 0.02222222 0.025      0.02777778 0.03055556]\n",
      "[0.8138888888888888, 0.8138888888888889, 0.788888888888889, 0.7888888888888888, 0.7888888888888888, 0.8166666666666673, 0.655555555555555, 0.9944444444444445, 0.8416666666666668, 0.8111111111111109, 0.7916666666666661, 0.7694444444444457]\n"
     ]
    },
    {
     "data": {
      "image/png": "[encoded data removed]",
      "text/plain": [
       "<Figure size 432x288 with 1 Axes>"
      ]
     },
     "metadata": {
      "needs_background": "light"
     },
     "output_type": "display_data"
    }
   ],
   "source": [
    "#Heart rate signal\n",
    "time = np.arange(np.array(interval).size) / fs\n",
    "print(time)\n",
    "print(interval)\n",
    "plt.plot(time, np.array(interval))\n",
    "plt.xlabel(\"time in s\")\n",
    "plt.ylabel(\"Heart rate signal\")\n",
    "plt.show()"
   ]
  },
  {
   "cell_type": "code",
   "execution_count": 66,
   "metadata": {
    "colab": {
     "base_uri": "https://localhost:8080/"
    },
    "id": "E1NiXFU3dpO_",
    "outputId": "a9812e44-15e8-429b-defa-c850b15fa562"
   },
   "outputs": [
    {
     "data": {
      "text/plain": [
       "0.80625"
      ]
     },
     "execution_count": 66,
     "metadata": {},
     "output_type": "execute_result"
    }
   ],
   "source": [
    "np.array(interval).mean()"
   ]
  },
  {
   "cell_type": "code",
   "execution_count": 67,
   "metadata": {
    "colab": {
     "base_uri": "https://localhost:8080/"
    },
    "id": "9_EHPc29dxY_",
    "outputId": "6f5a65ea-2fef-461b-efab-592291fee16c"
   },
   "outputs": [
    {
     "data": {
      "text/plain": [
       "0.07193787507544534"
      ]
     },
     "execution_count": 67,
     "metadata": {},
     "output_type": "execute_result"
    }
   ],
   "source": [
    "np.std(interval)"
   ]
  },
  {
   "cell_type": "markdown",
   "metadata": {
    "id": "pFYyPAsqdlQn"
   },
   "source": [
    "# **Question 2**"
   ]
  },
  {
   "cell_type": "code",
   "execution_count": 68,
   "metadata": {
    "id": "OIGZxDPPboE2"
   },
   "outputs": [],
   "source": [
    "import scipy.io\n",
    "mat2 = scipy.io.loadmat('inputECG.mat')"
   ]
  },
  {
   "cell_type": "code",
   "execution_count": 69,
   "metadata": {
    "colab": {
     "base_uri": "https://localhost:8080/"
    },
    "id": "cwF8fkRgeqZa",
    "outputId": "60cca195-5a9d-4815-beef-30ed475f5016"
   },
   "outputs": [
    {
     "data": {
      "text/plain": [
       "{'__header__': b'MATLAB 5.0 MAT-file, Platform: PCWIN64, Created on: Wed Jan 25 12:30:29 2017',\n",
       " '__version__': '1.0',\n",
       " '__globals__': [],\n",
       " 'inputECG': array([[995, 995, 995, ..., 946, 944, 943]], dtype=uint16)}"
      ]
     },
     "execution_count": 69,
     "metadata": {},
     "output_type": "execute_result"
    }
   ],
   "source": [
    "mat2"
   ]
  },
  {
   "cell_type": "code",
   "execution_count": 70,
   "metadata": {
    "colab": {
     "base_uri": "https://localhost:8080/",
     "height": 314
    },
    "id": "SEEJOc1Ket9F",
    "outputId": "8beb4db9-6ad2-4af2-add7-b805a0f73817"
   },
   "outputs": [
    {
     "name": "stdout",
     "output_type": "stream",
     "text": [
      "[995 995 995 ... 946 944 943]\n",
      "3600\n"
     ]
    },
    {
     "data": {
      "image/png": "[encoded data removed]",
      "text/plain": [
       "<Figure size 432x288 with 1 Axes>"
      ]
     },
     "metadata": {
      "needs_background": "light"
     },
     "output_type": "display_data"
    }
   ],
   "source": [
    "import matplotlib.pyplot as plt\n",
    "import numpy as np\n",
    "import scipy.io as sio\n",
    "\n",
    "ecg2 = sio.loadmat('inputECG.mat')['inputECG'].reshape((-1))\n",
    "print(ecg2)\n",
    "print(ecg2.size)\n",
    "fs = 360\n",
    "time = np.arange(ecg2.size) / fs\n",
    "plt.plot(time, ecg2)\n",
    "plt.xlabel(\"time in s\")\n",
    "plt.ylabel(\"ECG in mV\")\n",
    "plt.show()"
   ]
  },
  {
   "cell_type": "code",
   "execution_count": 71,
   "metadata": {
    "id": "dbHHkaT-fn-9"
   },
   "outputs": [],
   "source": [
    "def TimeSynchronizedAveraging(signal,N):\n",
    "  ecg_copies = np.array([signal for i in range(N)])\n",
    "  noise = np.array([np.random.rand(3600) for i in range(N)])\n",
    "  ecg_noise = ecg_copies + noise\n",
    "  print(ecg_noise)\n",
    "  average_signal = np.mean(ecg_noise,axis=0)\n",
    "  return average_signal"
   ]
  },
  {
   "cell_type": "code",
   "execution_count": 72,
   "metadata": {
    "colab": {
     "base_uri": "https://localhost:8080/"
    },
    "id": "-flyJfJCfuOQ",
    "outputId": "40652da1-9d86-4510-cc27-b26fe5dc9f27"
   },
   "outputs": [
    {
     "name": "stdout",
     "output_type": "stream",
     "text": [
      "[[995.09161385 995.57379441 995.26105762 ... 946.14793555 944.64785289\n",
      "  943.78342687]]\n",
      "[[995.22113784 995.96191754 995.36984111 ... 946.75510996 944.6873701\n",
      "  943.94403603]\n",
      " [995.61198263 995.66670541 995.15099518 ... 946.48118525 944.92850097\n",
      "  943.34072936]]\n",
      "[[995.49023236 995.46338763 995.19196223 ... 946.06654253 944.81620161\n",
      "  943.78993893]\n",
      " [995.14827611 995.70863198 995.17196347 ... 946.03385155 944.23931253\n",
      "  943.33274255]\n",
      " [995.8301762  995.57143675 995.33239656 ... 946.32817419 944.64466809\n",
      "  943.51535548]\n",
      " [995.19064279 995.5997755  995.88505899 ... 946.57359066 944.54794548\n",
      "  943.03100411]\n",
      " [995.89223746 995.26491223 995.81009711 ... 946.47304555 944.3608172\n",
      "  943.67162049]]\n",
      "[[995.00417888 995.65587226 995.85444289 ... 946.80336673 944.159587\n",
      "  943.41476786]\n",
      " [995.6247575  995.77265914 995.34379866 ... 946.06687297 944.914704\n",
      "  943.81581221]\n",
      " [995.42078143 995.24509675 995.31611853 ... 946.74314002 944.08281062\n",
      "  943.06690258]\n",
      " ...\n",
      " [995.75392895 995.33653909 995.45559877 ... 946.59086141 944.12008627\n",
      "  943.90405227]\n",
      " [995.08909771 995.13249846 995.23174194 ... 946.54023884 944.51977308\n",
      "  943.21784664]\n",
      " [995.29613606 995.40591113 995.71781871 ... 946.96257204 944.12592318\n",
      "  943.14950101]]\n",
      "[[995.82488818 995.93114376 995.54974497 ... 946.47123033 944.50434471\n",
      "  943.98307333]\n",
      " [995.58212782 995.6967516  995.32854824 ... 946.62460767 944.37303887\n",
      "  943.59467523]\n",
      " [995.43983639 995.00212733 995.17726376 ... 946.54698595 944.41359494\n",
      "  943.77686115]\n",
      " ...\n",
      " [995.85769138 995.50236585 995.4338482  ... 946.83302052 944.46214665\n",
      "  943.62686281]\n",
      " [995.80370042 995.56291221 995.10118178 ... 946.58070355 944.70952708\n",
      "  943.5546336 ]\n",
      " [995.10500177 995.99519013 995.81125634 ... 946.9468626  944.87544108\n",
      "  943.53686115]]\n",
      "[[995.74469112 995.7983679  995.59373927 ... 946.50614842 944.58300955\n",
      "  943.23981034]\n",
      " [995.4123524  995.40671243 995.33468303 ... 946.15501209 944.98684748\n",
      "  943.46236115]\n",
      " [995.1304882  995.88968031 995.11315498 ... 946.61532275 944.4415814\n",
      "  943.39616287]\n",
      " ...\n",
      " [995.38812511 995.78445652 995.90320057 ... 946.1532226  944.89183801\n",
      "  943.83503385]\n",
      " [995.00245095 995.99702783 995.77973457 ... 946.26521341 944.04097243\n",
      "  943.75159641]\n",
      " [995.27410885 995.28801726 995.31564805 ... 946.14617666 944.71885309\n",
      "  943.36037962]]\n",
      "[[995.04727974 995.58026816 995.81842071 ... 946.63369973 944.40700637\n",
      "  943.86820426]\n",
      " [995.8892881  995.1469746  995.43663859 ... 946.24974393 944.0593352\n",
      "  943.2044625 ]\n",
      " [995.61522237 995.07111405 995.52350689 ... 946.67158344 944.1421563\n",
      "  943.98837203]\n",
      " ...\n",
      " [995.15755584 995.66322957 995.56554483 ... 946.57350118 944.32706973\n",
      "  943.28094622]\n",
      " [995.65120157 995.74237961 995.97720153 ... 946.43902693 944.92235928\n",
      "  943.97083973]\n",
      " [995.66140899 995.71764281 995.55422752 ... 946.70443906 944.69280597\n",
      "  943.45494471]]\n",
      "[[995.33450383 995.45950079 995.23515528 ... 946.84814795 944.09666012\n",
      "  943.19085381]\n",
      " [995.27538575 995.703095   995.76494116 ... 946.78424147 944.74031721\n",
      "  943.76155811]\n",
      " [995.87151532 995.87028509 995.60849432 ... 946.86743569 944.48179317\n",
      "  943.87222624]\n",
      " ...\n",
      " [995.48328011 995.16473623 995.60005206 ... 946.46728513 944.01020882\n",
      "  943.2333713 ]\n",
      " [995.14445341 995.66616524 995.79209263 ... 946.01228864 944.18120608\n",
      "  943.51268753]\n",
      " [995.10936466 995.00244931 995.83812325 ... 946.30089328 944.45735998\n",
      "  943.42066071]]\n",
      "[[995.13795354 995.00457717 995.13330387 ... 946.63146512 944.48257724\n",
      "  943.50005879]\n",
      " [995.60623605 995.6724456  995.48559708 ... 946.66928074 944.23199915\n",
      "  943.59342609]\n",
      " [995.31689551 995.16371582 995.28237261 ... 946.01292411 944.94094311\n",
      "  943.41576226]\n",
      " ...\n",
      " [995.70618673 995.13923328 995.94657246 ... 946.10542092 944.48898127\n",
      "  943.30244143]\n",
      " [995.97376184 995.477199   995.83904136 ... 946.86579888 944.86040902\n",
      "  943.84481359]\n",
      " [995.53934904 995.71045382 995.12736305 ... 946.460773   944.91355404\n",
      "  943.94624544]]\n",
      "[[995.0115491  995.33301761 995.37325191 ... 946.519402   944.00253211\n",
      "  943.18787105]\n",
      " [995.82867839 995.55699347 995.37010676 ... 946.07291423 944.29635522\n",
      "  943.9924556 ]\n",
      " [995.0852178  995.80220563 995.72046501 ... 946.10828838 944.9696349\n",
      "  943.26458544]\n",
      " ...\n",
      " [995.09992608 995.63254447 995.54175074 ... 946.27608706 944.49695018\n",
      "  943.06372751]\n",
      " [995.7390688  995.51826089 995.93521872 ... 946.26650192 944.09454454\n",
      "  943.18257788]\n",
      " [995.06067703 995.47113322 995.87345716 ... 946.9250937  944.26403844\n",
      "  943.37725313]]\n",
      "[[995.68293374 995.58523689 995.99190637 ... 946.49994037 944.55245041\n",
      "  943.72520935]\n",
      " [995.76085249 995.75007892 995.34359132 ... 946.47702282 944.05650328\n",
      "  943.70716656]\n",
      " [995.37329377 995.01169351 995.8872975  ... 946.14195916 944.54384229\n",
      "  943.66125436]\n",
      " ...\n",
      " [995.38322787 995.67077224 995.23265928 ... 946.24801842 944.5531001\n",
      "  943.44447017]\n",
      " [995.33795635 995.29586901 995.93691934 ... 946.52149286 944.643596\n",
      "  943.71219772]\n",
      " [995.66542941 995.05117589 995.97254772 ... 946.60425298 944.43511823\n",
      "  943.81649513]]\n",
      "[[995.27532002 995.26236777 995.20874567 ... 946.68885201 944.60570502\n",
      "  943.02977891]\n",
      " [995.56373661 995.09100873 995.38268973 ... 946.37118824 944.74854343\n",
      "  943.23113746]\n",
      " [995.31836022 995.88132211 995.29839764 ... 946.15334188 944.63014904\n",
      "  943.42248246]\n",
      " ...\n",
      " [995.068934   995.92167704 995.98508929 ... 946.33271806 944.38494854\n",
      "  943.05179288]\n",
      " [995.72236269 995.52325403 995.78202049 ... 946.45174641 944.04179311\n",
      "  943.50371641]\n",
      " [995.46385755 995.27594933 995.95731093 ... 946.97625206 944.36379865\n",
      "  943.48096763]]\n",
      "[[995.28166998 995.10810734 995.4982825  ... 946.05113574 944.57111631\n",
      "  943.07787936]\n",
      " [995.61328726 995.72696783 995.1511523  ... 946.15538631 944.9435931\n",
      "  943.096394  ]\n",
      " [995.19454349 995.27348534 995.26924097 ... 946.48610273 944.18802963\n",
      "  943.99908174]\n",
      " ...\n",
      " [995.95424365 995.49526865 995.52612346 ... 946.29176527 944.79133146\n",
      "  943.75642138]\n",
      " [995.53787994 995.99689643 995.33850679 ... 946.85406015 944.85615667\n",
      "  943.21582684]\n",
      " [995.10525784 995.46732149 995.3867438  ... 946.79116998 944.92013027\n",
      "  943.02501212]]\n",
      "[array([995.09161385, 995.57379441, 995.26105762, ..., 946.14793555,\n",
      "       944.64785289, 943.78342687]), array([995.41656023, 995.81431147, 995.26041814, ..., 946.61814761,\n",
      "       944.80793554, 943.6423827 ]), array([995.51031298, 995.52162882, 995.47829567, ..., 946.2950409 ,\n",
      "       944.52178898, 943.46813232]), array([995.37553385, 995.49957988, 995.45852054, ..., 946.65772129,\n",
      "       944.36865227, 943.527642  ]), array([995.59094893, 995.55419302, 995.50607641, ..., 946.54788128,\n",
      "       944.44873551, 943.56818512]), array([995.51709061, 995.60542167, 995.47162189, ..., 946.42609258,\n",
      "       944.54131612, 943.46830122]), array([995.43945349, 995.5363075 , 995.48471252, ..., 946.50993441,\n",
      "       944.43084289, 943.56358185]), array([995.48889681, 995.50354279, 995.54188185, ..., 946.49145708,\n",
      "       944.47072925, 943.49614989]), array([995.53696226, 995.50730971, 995.52620924, ..., 946.48449237,\n",
      "       944.52849999, 943.45144226]), array([995.50632723, 995.48176024, 995.49541834, ..., 946.5060601 ,\n",
      "       944.43512811, 943.41661797]), array([995.50874402, 995.48073004, 995.52487434, ..., 946.45855374,\n",
      "       944.47913552, 943.52283604]), array([995.54543995, 995.50872341, 995.44864047, ..., 946.51101442,\n",
      "       944.55734287, 943.43666663]), array([995.5090513 , 995.47711147, 995.50631153, ..., 946.47884847,\n",
      "       944.52930692, 943.48924682])]\n"
     ]
    }
   ],
   "source": [
    "N = [1, 2, 5, 10, 20, 30, 40, 50, 60, 70, 80, 90, 100]\n",
    "signal = []\n",
    "for i in range(len(N)):\n",
    "  signal.append(TimeSynchronizedAveraging(ecg2,N[i]))\n",
    "print(signal)"
   ]
  },
  {
   "cell_type": "code",
   "execution_count": 73,
   "metadata": {
    "colab": {
     "base_uri": "https://localhost:8080/"
    },
    "id": "utfF9UbqMpHh",
    "outputId": "e6e7c556-c432-4131-fd8c-c12a2917c120"
   },
   "outputs": [
    {
     "name": "stdout",
     "output_type": "stream",
     "text": [
      "558\n",
      "13\n"
     ]
    }
   ],
   "source": [
    "print(sum(N))\n",
    "print(len(signal))"
   ]
  },
  {
   "cell_type": "code",
   "execution_count": 74,
   "metadata": {
    "id": "IixGRzMJM9pT"
   },
   "outputs": [],
   "source": [
    "def PRD(ecg2,reconstruct_signal):\n",
    "  p = 0\n",
    "  q = 0\n",
    "  for i in range(len(ecg2)):\n",
    "    p = p + (ecg2[i] - reconstruct_signal[i])**2\n",
    "    q = q + (ecg2[i])**2\n",
    "  r = p/q\n",
    "  prd = np.sqrt(r) * 100\n",
    "  return prd\n"
   ]
  },
  {
   "cell_type": "code",
   "execution_count": 75,
   "metadata": {
    "colab": {
     "base_uri": "https://localhost:8080/"
    },
    "id": "0uBkz536NreV",
    "outputId": "bcf48b38-302a-424e-ae86-40bfa5ccd72e"
   },
   "outputs": [
    {
     "data": {
      "text/plain": [
       "[0.060273509117002855,\n",
       " 0.05597673234549942,\n",
       " 0.05361970274981184,\n",
       " 0.053104872775283,\n",
       " 0.05235075190142968,\n",
       " 0.05231797236224722,\n",
       " 0.05224657559652089,\n",
       " 0.05224342683171047,\n",
       " 0.05217319929193099,\n",
       " 0.05210003167380997,\n",
       " 0.05218235729769421,\n",
       " 0.052183355748556204,\n",
       " 0.05213418939951268]"
      ]
     },
     "execution_count": 75,
     "metadata": {},
     "output_type": "execute_result"
    }
   ],
   "source": [
    "prd = []\n",
    "for i in range(len(signal)):\n",
    "  prd.append(PRD(ecg2,signal[i]))\n",
    "prd"
   ]
  },
  {
   "cell_type": "code",
   "execution_count": 76,
   "metadata": {
    "colab": {
     "base_uri": "https://localhost:8080/",
     "height": 282
    },
    "id": "21LSNlA7OA8a",
    "outputId": "648ca8ef-d723-432c-fc4f-509e2bccd84a"
   },
   "outputs": [
    {
     "data": {
      "text/plain": [
       "[<matplotlib.lines.Line2D at 0x7f81e401a490>]"
      ]
     },
     "execution_count": 76,
     "metadata": {},
     "output_type": "execute_result"
    },
    {
     "data": {
      "image/png": "[encoded data removed]",
      "text/plain": [
       "<Figure size 432x288 with 1 Axes>"
      ]
     },
     "metadata": {
      "needs_background": "light"
     },
     "output_type": "display_data"
    }
   ],
   "source": [
    "plt.plot(N,prd)"
   ]
  },
  {
   "cell_type": "code",
   "execution_count": 77,
   "metadata": {
    "id": "VhDyunJ3fyOo"
   },
   "outputs": [],
   "source": [
    "# import matplotlib.pyplot as plt\n",
    "# import numpy as np\n",
    "# import scipy.io as sio\n",
    "\n",
    "# # ecg2 = sio.loadmat('inputECG.mat')['inputECG'].reshape((-1))\n",
    "# # print(ecg2)\n",
    "# # print(ecg2.size)\n",
    "# fs = 360\n",
    "# time = np.arange(signal.size) / fs\n",
    "# plt.plot(time, signal)\n",
    "# plt.xlabel(\"time in s\")\n",
    "# plt.ylabel(\"ECG with noise in mV\")\n",
    "# plt.show()\n",
    "# print(signal)"
   ]
  },
  {
   "cell_type": "markdown",
   "metadata": {
    "id": "3q7LZdvUu58A"
   },
   "source": [
    "# **Question 3**"
   ]
  },
  {
   "cell_type": "code",
   "execution_count": 78,
   "metadata": {
    "id": "JDFl4GPBgAoK"
   },
   "outputs": [],
   "source": [
    "import numpy as np\n",
    "import matplotlib.pyplot as plt\n",
    "import scipy.io\n",
    "import math\n",
    "mat3 = scipy.io.loadmat('givenECG3.mat')"
   ]
  },
  {
   "cell_type": "code",
   "execution_count": 79,
   "metadata": {
    "colab": {
     "base_uri": "https://localhost:8080/"
    },
    "id": "-UhLyJFhvLlP",
    "outputId": "e10fc390-69fd-4dd7-f972-a952a2c9aa79"
   },
   "outputs": [
    {
     "data": {
      "text/plain": [
       "{'__header__': b'MATLAB 5.0 MAT-file, Platform: PCWIN64, Created on: Tue Jan 10 19:30:32 2017',\n",
       " '__version__': '1.0',\n",
       " '__globals__': [],\n",
       " 'givenECG3': array([[995, 995, 995, ..., 946, 944, 943]], dtype=uint16)}"
      ]
     },
     "execution_count": 79,
     "metadata": {},
     "output_type": "execute_result"
    }
   ],
   "source": [
    "mat3"
   ]
  },
  {
   "cell_type": "code",
   "execution_count": 80,
   "metadata": {
    "colab": {
     "base_uri": "https://localhost:8080/"
    },
    "id": "9Kr7modWvMbP",
    "outputId": "990a9a3d-6c61-4dad-ee2e-9ed6f15f585d"
   },
   "outputs": [
    {
     "name": "stdout",
     "output_type": "stream",
     "text": [
      "3.141592653589793\n",
      "3600\n",
      "[   0    1    2 ... 3597 3598 3599]\n",
      "[0.00000000e+00 2.77777778e-03 5.55555556e-03 ... 9.99166667e+00\n",
      " 9.99444444e+00 9.99722222e+00]\n",
      "3600\n"
     ]
    }
   ],
   "source": [
    "#Creating baseline_wander\n",
    "f = 0.5\n",
    "fs = 360\n",
    "print(np.pi)\n",
    "ecg3 = mat3['givenECG3'].reshape((-1))\n",
    "print(ecg3.size)\n",
    "Amp = (max(ecg3) - min(ecg3))*0.5\n",
    "time = np.arange(ecg3.size)/fs\n",
    "print(np.arange(ecg3.size))\n",
    "print(time)\n",
    "baseline_wander = []\n",
    "for i in range(len(time)):\n",
    "  p = Amp * math.sin(2*np.pi*f*time[i])\n",
    "  baseline_wander.append(p)\n",
    "baseline_wander\n",
    "print(len(baseline_wander))"
   ]
  },
  {
   "cell_type": "code",
   "execution_count": 81,
   "metadata": {
    "id": "SzMFI9XZvsGb"
   },
   "outputs": [],
   "source": [
    "#Adding baseline_wander to ecg signal\n",
    "signal_bw = np.array(ecg3) + np.array(baseline_wander)"
   ]
  },
  {
   "cell_type": "code",
   "execution_count": 82,
   "metadata": {
    "colab": {
     "base_uri": "https://localhost:8080/"
    },
    "id": "0Y-IPFOYxzk6",
    "outputId": "b827dd76-eba7-4cb8-d8e8-57de3fb4cf3f"
   },
   "outputs": [
    {
     "data": {
      "text/plain": [
       "array([995.        , 996.40060895, 997.80111123, ..., 941.7985998 ,\n",
       "       941.19888877, 941.59939105])"
      ]
     },
     "execution_count": 82,
     "metadata": {},
     "output_type": "execute_result"
    }
   ],
   "source": [
    "signal_bw"
   ]
  },
  {
   "cell_type": "code",
   "execution_count": 83,
   "metadata": {
    "colab": {
     "base_uri": "https://localhost:8080/",
     "height": 314
    },
    "id": "gypvdKtEx0zt",
    "outputId": "9208cc16-e658-4032-e55b-4591f5c9adb3"
   },
   "outputs": [
    {
     "data": {
      "image/png": "[encoded data removed]",
      "text/plain": [
       "<Figure size 432x288 with 1 Axes>"
      ]
     },
     "metadata": {
      "needs_background": "light"
     },
     "output_type": "display_data"
    },
    {
     "name": "stdout",
     "output_type": "stream",
     "text": [
      "[995.         996.40060895 997.80111123 ... 941.7985998  941.19888877\n",
      " 941.59939105]\n"
     ]
    }
   ],
   "source": [
    "#Plot ECG signal with baseline wander\n",
    "fs = 360\n",
    "time = np.arange(signal_bw.size) / fs\n",
    "plt.plot(time, signal_bw)\n",
    "plt.xlabel(\"time in s\")\n",
    "plt.ylabel(\"ECG with baseline_wander in mV\")\n",
    "plt.show()\n",
    "print(signal_bw)"
   ]
  },
  {
   "cell_type": "code",
   "execution_count": 84,
   "metadata": {
    "colab": {
     "base_uri": "https://localhost:8080/"
    },
    "id": "G49wj2tzf8wn",
    "outputId": "ec7919fb-6a69-4ba9-9677-b14732d87dc7"
   },
   "outputs": [
    {
     "name": "stdout",
     "output_type": "stream",
     "text": [
      "[-12.08377125 -11.33908543 -10.59918551 ...  -6.18225438  -7.53033435\n",
      "  -7.86300027]\n"
     ]
    }
   ],
   "source": [
    "#High pass filter for removing baseline_wander noise from ecg signal\n",
    "from scipy.signal import butter, filtfilt\n",
    "import numpy as np\n",
    "\n",
    "def butter_highpass(cutoff, fs, order=5):\n",
    "    nyq = 0.5 * fs\n",
    "    normal_cutoff = cutoff / nyq\n",
    "    b, a = butter(order, normal_cutoff, btype='high', analog=False)\n",
    "    return b, a\n",
    "\n",
    "def butter_highpass_filter(data, cutoff, fs, order=5):\n",
    "    b, a = butter_highpass(cutoff, fs, order=order)\n",
    "    # print(b,a)\n",
    "    y = filtfilt(b, a, data)\n",
    "    # print(y)\n",
    "    return y\n",
    "\n",
    "# rawdata = np.loadtxt('sampleSignal.txt', skiprows=0)\n",
    "signal = signal_bw\n",
    "fs = 360\n",
    "\n",
    "cutoff = 1\n",
    "order = 5\n",
    "conditioned_signal = butter_highpass_filter(signal_bw, cutoff, fs, order)\n",
    "print(conditioned_signal)"
   ]
  },
  {
   "cell_type": "code",
   "execution_count": 85,
   "metadata": {
    "id": "kQ2uWNhOIJwH"
   },
   "outputs": [],
   "source": [
    "# from scipy import signal\n",
    "# sos = signal.butter(5, 0.5, 'hp', fs=360, output='sos')\n",
    "# filtered = signal.sosfilt(sos, signal_bw)\n",
    "# filtered"
   ]
  },
  {
   "cell_type": "code",
   "execution_count": 86,
   "metadata": {
    "id": "SvkTU82xIl23"
   },
   "outputs": [],
   "source": [
    "# fs = 360\n",
    "# time = np.arange(filtered.size) / fs\n",
    "# plt.plot(time, filtered)\n",
    "# plt.xlabel(\"time in s\")\n",
    "# plt.ylabel(\"ECG without baseline_wander in mV\")\n",
    "# plt.show()\n",
    "# print(filtered)"
   ]
  },
  {
   "cell_type": "code",
   "execution_count": 87,
   "metadata": {
    "colab": {
     "base_uri": "https://localhost:8080/",
     "height": 314
    },
    "id": "1toKZLpCgVBg",
    "outputId": "92237bc4-4819-4ff5-b7bb-40f03a0694c3"
   },
   "outputs": [
    {
     "data": {
      "image/png": "[encoded data removed]",
      "text/plain": [
       "<Figure size 432x288 with 1 Axes>"
      ]
     },
     "metadata": {
      "needs_background": "light"
     },
     "output_type": "display_data"
    },
    {
     "name": "stdout",
     "output_type": "stream",
     "text": [
      "[-12.08377125 -11.33908543 -10.59918551 ...  -6.18225438  -7.53033435\n",
      "  -7.86300027]\n"
     ]
    }
   ],
   "source": [
    "#Plot of ECG signal without baseline wander\n",
    "fs = 360\n",
    "time = np.arange(conditioned_signal.size) / fs\n",
    "plt.plot(time, conditioned_signal)\n",
    "plt.xlabel(\"time in s\")\n",
    "plt.ylabel(\"ECG without baseline_wander in mV\")\n",
    "plt.show()\n",
    "print(conditioned_signal)"
   ]
  },
  {
   "cell_type": "code",
   "execution_count": 88,
   "metadata": {
    "colab": {
     "base_uri": "https://localhost:8080/"
    },
    "id": "ywrpKp79KvZT",
    "outputId": "7c3df53e-1c82-42d9-ec84-153cd5ec7c5f"
   },
   "outputs": [
    {
     "name": "stdout",
     "output_type": "stream",
     "text": [
      "960.0155555555556\n"
     ]
    },
    {
     "data": {
      "text/plain": [
       "array([947.93178431, 948.67647013, 949.41637004, ..., 953.83330117,\n",
       "       952.48522121, 952.15255529])"
      ]
     },
     "execution_count": 88,
     "metadata": {},
     "output_type": "execute_result"
    }
   ],
   "source": [
    "#Finding dc value of the ecg signal and adding it to the conditioned signal obtained from high pass filter\n",
    "dc_value = np.mean(ecg3)\n",
    "print(dc_value)\n",
    "reconstructed_signal = conditioned_signal + dc_value\n",
    "reconstructed_signal"
   ]
  },
  {
   "cell_type": "code",
   "execution_count": 89,
   "metadata": {
    "colab": {
     "base_uri": "https://localhost:8080/",
     "height": 314
    },
    "id": "v5oUpAYhLLNQ",
    "outputId": "dd2e3ea9-65e9-43cb-9792-9a884a957bb8"
   },
   "outputs": [
    {
     "data": {
      "image/png": "[encoded data removed]",
      "text/plain": [
       "<Figure size 432x288 with 1 Axes>"
      ]
     },
     "metadata": {
      "needs_background": "light"
     },
     "output_type": "display_data"
    },
    {
     "name": "stdout",
     "output_type": "stream",
     "text": [
      "[947.93178431 948.67647013 949.41637004 ... 953.83330117 952.48522121\n",
      " 952.15255529]\n"
     ]
    }
   ],
   "source": [
    "#Plot of reconstructed signal\n",
    "fs = 360\n",
    "time = np.arange(reconstructed_signal.size) / fs\n",
    "plt.plot(time, reconstructed_signal)\n",
    "plt.xlabel(\"time in s\")\n",
    "plt.ylabel(\"ECG without baseline_wander in mV\")\n",
    "plt.show()\n",
    "print(reconstructed_signal)"
   ]
  },
  {
   "cell_type": "code",
   "execution_count": 90,
   "metadata": {
    "id": "7O3wWcl7LXEp"
   },
   "outputs": [],
   "source": [
    "#Find PRD\n",
    "s=0\n",
    "r=0\n",
    "for i in range(len(reconstructed_signal)):\n",
    "  s = s + (ecg3[i] - reconstructed_signal[i]) **2\n",
    "  r = r + (ecg3[i])**2\n"
   ]
  },
  {
   "cell_type": "code",
   "execution_count": 91,
   "metadata": {
    "colab": {
     "base_uri": "https://localhost:8080/"
    },
    "id": "oHgilKCYLnpf",
    "outputId": "de78902f-b704-4110-e8d5-2a7bbbabc9eb"
   },
   "outputs": [
    {
     "name": "stdout",
     "output_type": "stream",
     "text": [
      "127751.04723059158\n",
      "3322040050\n"
     ]
    }
   ],
   "source": [
    "print(s)\n",
    "print(r)"
   ]
  },
  {
   "cell_type": "code",
   "execution_count": 92,
   "metadata": {
    "colab": {
     "base_uri": "https://localhost:8080/"
    },
    "id": "AcpjRZuTLqfN",
    "outputId": "4ac5077c-ba1e-40c7-d598-e6af95cbe37c"
   },
   "outputs": [
    {
     "data": {
      "text/plain": [
       "0.6201258031166288"
      ]
     },
     "execution_count": 92,
     "metadata": {},
     "output_type": "execute_result"
    }
   ],
   "source": [
    "prd1 = np.sqrt(s/r)*100\n",
    "prd1"
   ]
  },
  {
   "cell_type": "code",
   "execution_count": 93,
   "metadata": {
    "colab": {
     "base_uri": "https://localhost:8080/"
    },
    "id": "9c-no3h0x_Te",
    "outputId": "72c2cbb1-d8fe-4d2d-9eb2-f7768b5ec936"
   },
   "outputs": [
    {
     "name": "stdout",
     "output_type": "stream",
     "text": [
      "3600\n",
      "[   0    1    2 ... 3597 3598 3599]\n",
      "[0.00000000e+00 2.77777778e-03 5.55555556e-03 ... 9.99166667e+00\n",
      " 9.99444444e+00 9.99722222e+00]\n",
      "3600\n"
     ]
    }
   ],
   "source": [
    "#Creating Powerline interference\n",
    "f = 50\n",
    "fs = 360\n",
    "ecg3 = mat3['givenECG3'].reshape((-1))\n",
    "print(ecg3.size)\n",
    "Amp = (max(ecg3) - min(ecg3))*0.5\n",
    "time = np.arange(ecg3.size)/fs\n",
    "print(np.arange(ecg3.size))\n",
    "print(time)\n",
    "powerline_interference = []\n",
    "for i in range(len(time)):\n",
    "  w = Amp * math.sin(2*np.pi*f*time[i])\n",
    "  powerline_interference.append(w)\n",
    "powerline_interference\n",
    "print(len(powerline_interference))"
   ]
  },
  {
   "cell_type": "code",
   "execution_count": 94,
   "metadata": {
    "id": "UIGP9t8gyp25"
   },
   "outputs": [],
   "source": [
    "#Adding powerline interference to ecg signal\n",
    "signal_pi = np.array(ecg3) + np.array(powerline_interference)"
   ]
  },
  {
   "cell_type": "code",
   "execution_count": 95,
   "metadata": {
    "colab": {
     "base_uri": "https://localhost:8080/"
    },
    "id": "4V_lHZ-XyzfV",
    "outputId": "a78f3480-9c0c-484f-8268-c8fb1f403b5d"
   },
   "outputs": [
    {
     "data": {
      "text/plain": [
       "array([ 995.        , 1117.95013312, 1153.06164436, ...,  865.75      ,\n",
       "        785.93835564,  820.04986688])"
      ]
     },
     "execution_count": 95,
     "metadata": {},
     "output_type": "execute_result"
    }
   ],
   "source": [
    "signal_pi"
   ]
  },
  {
   "cell_type": "code",
   "execution_count": 96,
   "metadata": {
    "colab": {
     "base_uri": "https://localhost:8080/",
     "height": 317
    },
    "id": "IrdgiMF0y0qx",
    "outputId": "1a23d705-1b3f-4417-be8c-d05abd789538"
   },
   "outputs": [
    {
     "data": {
      "image/png": "[encoded data removed]",
      "text/plain": [
       "<Figure size 432x288 with 1 Axes>"
      ]
     },
     "metadata": {
      "needs_background": "light"
     },
     "output_type": "display_data"
    },
    {
     "name": "stdout",
     "output_type": "stream",
     "text": [
      "[ 995.         1117.95013312 1153.06164436 ...  865.75        785.93835564\n",
      "  820.04986688]\n"
     ]
    }
   ],
   "source": [
    "#Plot of ECG signal with powerline_interference\n",
    "fs = 360\n",
    "time = np.arange(signal_pi.size) / fs\n",
    "plt.plot(time, signal_pi)\n",
    "plt.xlabel(\"time in s\")\n",
    "plt.ylabel(\"ECG with powerline_interference in mV\")\n",
    "plt.show()\n",
    "print(signal_pi)"
   ]
  },
  {
   "cell_type": "code",
   "execution_count": 97,
   "metadata": {
    "id": "x3IuqW89zBKO"
   },
   "outputs": [],
   "source": [
    "#Notch filter for removing of powerline interference from ecg signal\n",
    "from scipy import signal\n",
    "from scipy.signal import butter, iirnotch, lfilter\n",
    "import numpy as np\n",
    "import matplotlib.pyplot as plt\n",
    "\n",
    "def notch_filter(cutoff, q):\n",
    "    nyq = 0.5*fs\n",
    "    freq = cutoff/nyq\n",
    "    b, a = iirnotch(freq, q)\n",
    "    return b, a\n",
    "\n",
    "\n",
    "def notch(data, powerline, q):\n",
    "    b,a = notch_filter(powerline,q)\n",
    "    z = lfilter(b,a,data)\n",
    "    return z\n",
    "\n",
    "signal = signal_pi\n",
    "fs = 360\n",
    "\n",
    "powerline = 50\n",
    "order = 6\n",
    "q=20\n",
    "\n",
    "filtered_signal = notch(signal_pi,powerline,q)\n"
   ]
  },
  {
   "cell_type": "code",
   "execution_count": 98,
   "metadata": {
    "colab": {
     "base_uri": "https://localhost:8080/"
    },
    "id": "U3CvHXzzllKK",
    "outputId": "432d507a-99a4-42e0-b847-7e6006919f0f"
   },
   "outputs": [
    {
     "data": {
      "text/plain": [
       "array([ 973.75264177, 1067.34549437, 1106.35944234, ...,  942.85095821,\n",
       "        943.0135821 ,  944.83757916])"
      ]
     },
     "execution_count": 98,
     "metadata": {},
     "output_type": "execute_result"
    }
   ],
   "source": [
    "filtered_signal"
   ]
  },
  {
   "cell_type": "code",
   "execution_count": 99,
   "metadata": {
    "colab": {
     "base_uri": "https://localhost:8080/",
     "height": 314
    },
    "id": "dZyVDBpZnIHy",
    "outputId": "3afe7238-83b3-4277-b473-e067be86ac45"
   },
   "outputs": [
    {
     "data": {
      "image/png": "[encoded data removed]",
      "text/plain": [
       "<Figure size 432x288 with 1 Axes>"
      ]
     },
     "metadata": {
      "needs_background": "light"
     },
     "output_type": "display_data"
    },
    {
     "name": "stdout",
     "output_type": "stream",
     "text": [
      "[ 973.75264177 1067.34549437 1106.35944234 ...  942.85095821  943.0135821\n",
      "  944.83757916]\n"
     ]
    }
   ],
   "source": [
    "#Plot of ECG signal without powerline interference\n",
    "fs = 360\n",
    "time = np.arange(filtered_signal.size) / fs\n",
    "plt.plot(time, filtered_signal)\n",
    "plt.xlabel(\"time in s\")\n",
    "plt.ylabel(\"ECG without powerline_interference in mV\")\n",
    "plt.show()\n",
    "print(filtered_signal)"
   ]
  },
  {
   "cell_type": "code",
   "execution_count": 100,
   "metadata": {
    "colab": {
     "base_uri": "https://localhost:8080/"
    },
    "id": "gLhTMplAnOna",
    "outputId": "4a7c234a-6ab8-4cd9-d3e4-ff35b4a4d3da"
   },
   "outputs": [
    {
     "data": {
      "text/plain": [
       "array([995, 995, 995, ..., 946, 944, 943], dtype=uint16)"
      ]
     },
     "execution_count": 100,
     "metadata": {},
     "output_type": "execute_result"
    }
   ],
   "source": [
    "ecg3"
   ]
  },
  {
   "cell_type": "code",
   "execution_count": 101,
   "metadata": {
    "colab": {
     "base_uri": "https://localhost:8080/"
    },
    "id": "lv1Yby5HoCUq",
    "outputId": "ec14bcdc-7979-4d8c-8f92-5ae545fca449"
   },
   "outputs": [
    {
     "data": {
      "text/plain": [
       "array([ 995.        , 1117.95013312, 1153.06164436, ...,  865.75      ,\n",
       "        785.93835564,  820.04986688])"
      ]
     },
     "execution_count": 101,
     "metadata": {},
     "output_type": "execute_result"
    }
   ],
   "source": [
    "signal_pi"
   ]
  },
  {
   "cell_type": "code",
   "execution_count": 102,
   "metadata": {
    "colab": {
     "base_uri": "https://localhost:8080/"
    },
    "id": "StO1Wx96oGoV",
    "outputId": "446c492d-767a-498d-f03f-7653d4024354"
   },
   "outputs": [
    {
     "data": {
      "text/plain": [
       "array([ 973.75264177, 1067.34549437, 1106.35944234, ...,  942.85095821,\n",
       "        943.0135821 ,  944.83757916])"
      ]
     },
     "execution_count": 102,
     "metadata": {},
     "output_type": "execute_result"
    }
   ],
   "source": [
    "filtered_signal"
   ]
  },
  {
   "cell_type": "code",
   "execution_count": 103,
   "metadata": {
    "id": "h6qt0vyPGfi2"
   },
   "outputs": [],
   "source": [
    "#Find PRD\n",
    "b = 0\n",
    "a = 0\n",
    "for i in range(len(filtered_signal)):\n",
    "  a = a + (ecg3[i] - filtered_signal[i])**2\n",
    "  b = b + ecg3[i]**2\n",
    "\n",
    "  "
   ]
  },
  {
   "cell_type": "code",
   "execution_count": 104,
   "metadata": {
    "colab": {
     "base_uri": "https://localhost:8080/"
    },
    "id": "nVEgBMhXG8mD",
    "outputId": "678604fb-0d64-4a00-bb8c-b0059d2dc367"
   },
   "outputs": [
    {
     "data": {
      "text/plain": [
       "167923.54812609198"
      ]
     },
     "execution_count": 104,
     "metadata": {},
     "output_type": "execute_result"
    }
   ],
   "source": [
    "a"
   ]
  },
  {
   "cell_type": "code",
   "execution_count": 105,
   "metadata": {
    "colab": {
     "base_uri": "https://localhost:8080/"
    },
    "id": "wxGiOflPG9Vy",
    "outputId": "e5b9be48-2b8c-48c4-da02-7632a3d2b328"
   },
   "outputs": [
    {
     "data": {
      "text/plain": [
       "3322040050"
      ]
     },
     "execution_count": 105,
     "metadata": {},
     "output_type": "execute_result"
    }
   ],
   "source": [
    "b"
   ]
  },
  {
   "cell_type": "code",
   "execution_count": 106,
   "metadata": {
    "id": "NsaXma4lG-W0"
   },
   "outputs": [],
   "source": [
    "c = a/b"
   ]
  },
  {
   "cell_type": "code",
   "execution_count": 107,
   "metadata": {
    "id": "KpswFujqHEBr"
   },
   "outputs": [],
   "source": [
    "prd2 = np.sqrt(c) * 100"
   ]
  },
  {
   "cell_type": "code",
   "execution_count": 108,
   "metadata": {
    "colab": {
     "base_uri": "https://localhost:8080/"
    },
    "id": "B5_-hV21HH_6",
    "outputId": "2011f756-3365-4a00-f4cd-838b7bf89e55"
   },
   "outputs": [
    {
     "data": {
      "text/plain": [
       "0.710973427017357"
      ]
     },
     "execution_count": 108,
     "metadata": {},
     "output_type": "execute_result"
    }
   ],
   "source": [
    "prd2"
   ]
  },
  {
   "cell_type": "code",
   "execution_count": 108,
   "metadata": {
    "id": "NwekRyfcHJCD"
   },
   "outputs": [],
   "source": []
  }
 ],
 "metadata": {
  "colab": {
   "provenance": []
  },
  "kernelspec": {
   "display_name": "Python 3 (ipykernel)",
   "language": "python",
   "name": "python3"
  },
  "language_info": {
   "codemirror_mode": {
    "name": "ipython",
    "version": 3
   },
   "file_extension": ".py",
   "mimetype": "text/x-python",
   "name": "python",
   "nbconvert_exporter": "python",
   "pygments_lexer": "ipython3",
   "version": "3.9.12"
  }
 },
 "nbformat": 4,
 "nbformat_minor": 1
}
